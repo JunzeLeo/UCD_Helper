{
 "cells": [
  {
   "cell_type": "code",
   "execution_count": 1,
   "metadata": {},
   "outputs": [],
   "source": [
    "from utils import chain_with_summarization"
   ]
  },
  {
   "cell_type": "code",
   "execution_count": 2,
   "metadata": {},
   "outputs": [
    {
     "data": {
      "text/plain": [
       "{'hear': 'The user might hear colleagues discussing the benefits of using automated note-taking features in meetings.',\n",
       " 'see': 'The user sees advertisements and product demonstrations showcasing the efficiency of auto note features in various productivity tools.',\n",
       " 'say': 'The user says they like the auto note feature and find it useful for keeping track of important points without manual effort.',\n",
       " 'do': 'The user frequently uses the auto note feature in their meetings and integrates it into their daily workflow.',\n",
       " 'think': 'The user thinks about how the auto note feature improves their productivity and reduces the risk of missing important information.',\n",
       " 'feel': 'The user feels satisfied and relieved knowing that the auto note feature can capture details accurately, allowing them to focus more on the discussion.'}"
      ]
     },
     "execution_count": 2,
     "metadata": {},
     "output_type": "execute_result"
    }
   ],
   "source": [
    "chain_with_summarization.invoke(\n",
    "    {\"input\": \"I like the auto note feature\"}, {\"configurable\": {\"session_id\": \"123\"}},\n",
    ")"
   ]
  },
  {
   "cell_type": "code",
   "execution_count": null,
   "metadata": {},
   "outputs": [],
   "source": []
  }
 ],
 "metadata": {
  "kernelspec": {
   "display_name": "paf_sf",
   "language": "python",
   "name": "python3"
  },
  "language_info": {
   "codemirror_mode": {
    "name": "ipython",
    "version": 3
   },
   "file_extension": ".py",
   "mimetype": "text/x-python",
   "name": "python",
   "nbconvert_exporter": "python",
   "pygments_lexer": "ipython3",
   "version": "3.11.9"
  }
 },
 "nbformat": 4,
 "nbformat_minor": 2
}
